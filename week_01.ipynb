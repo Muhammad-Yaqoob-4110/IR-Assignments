{
 "cells": [
  {
   "cell_type": "markdown",
   "metadata": {},
   "source": [
    "# Step 1: Define Your Goals\n",
    "For this assignment I have two goals:\n",
    "1. My search engine will search for a word  in a document.\n",
    "2. And it will search for a document in a directory."
   ]
  },
  {
   "cell_type": "markdown",
   "metadata": {},
   "source": [
    "# Step 2: Gather Documents\n",
    "I have prepared two text files. \n",
    "1. `Documents_01/students-names.txt:` First one is the list of the students names seperated by comma. \n",
    "2. `Documents_01/students-rollno.txt:` And second one is the collcection of rollnumber of students attended the first day class lecture."
   ]
  },
  {
   "cell_type": "markdown",
   "metadata": {},
   "source": [
    "# Step 3: Choose a Programming Language\n",
    "I will work with `python`"
   ]
  },
  {
   "cell_type": "markdown",
   "metadata": {},
   "source": [
    "# Step 4: Create a Program\n",
    "This program will help us to search through our documents."
   ]
  },
  {
   "cell_type": "code",
   "execution_count": 3,
   "metadata": {},
   "outputs": [
    {
     "name": "stdout",
     "output_type": "stream",
     "text": [
      "['students-names.txt', 'students-rollno.txt']\n",
      "Document exists.\n"
     ]
    }
   ],
   "source": [
    "# Lookup for a document in directory\n",
    "import os\n",
    "\n",
    "def search_document(folder_path, document_name):\n",
    "    try:\n",
    "        files = os.listdir(folder_path)\n",
    "        print(files)\n",
    "    except FileNotFoundError:\n",
    "        return \"Folder not found.\"\n",
    "    \n",
    "    if document_name in files:\n",
    "        return \"Document exists.\"\n",
    "    else:\n",
    "        return \"Document does not exist.\"\n",
    "\n",
    "# Let's Look up for the document in a directory\n",
    "folder_path = './Documents_01'\n",
    "document_name = 'students-names.txt'\n",
    "print(search_document(folder_path, document_name))"
   ]
  },
  {
   "cell_type": "markdown",
   "metadata": {},
   "source": [
    "# Step 5: Read and Index Documents\n",
    "I have created an function which make the indexer for a particular document. This indexer is basically a `dictionary` which stores the word and its frequency within a documument, Here is an example.\n",
    "\n",
    "indexer = {\"word\": frequency_count}"
   ]
  },
  {
   "cell_type": "code",
   "execution_count": 5,
   "metadata": {},
   "outputs": [],
   "source": [
    "# Index Document\n",
    "def create_indexer(words):\n",
    "    indexer = {}\n",
    "\n",
    "    for word in words:\n",
    "        if word in indexer:\n",
    "            indexer[word] +=  1\n",
    "        else:\n",
    "            indexer[word] = 1\n",
    "            \n",
    "    return indexer\n",
    "\n",
    "def read_document(path):\n",
    "    file = open(path, 'r')\n",
    "    content = file.read()\n",
    "    return content"
   ]
  },
  {
   "cell_type": "code",
   "execution_count": 10,
   "metadata": {},
   "outputs": [],
   "source": [
    "path = \"./Documents_01/students-names.txt\"\n",
    "words = read_document(path).split(',')\n",
    "indexer = create_indexer(words)"
   ]
  },
  {
   "cell_type": "markdown",
   "metadata": {},
   "source": [
    "# Step 6: Build a Search Function"
   ]
  },
  {
   "cell_type": "code",
   "execution_count": 14,
   "metadata": {},
   "outputs": [],
   "source": [
    "def lookup(query, indexer):\n",
    "    query_exists = query in indexer\n",
    "    query_count = indexer[query] if query_exists else 0\n",
    "    return {\"exists\": query_exists, \"count\": query_count}"
   ]
  },
  {
   "cell_type": "markdown",
   "metadata": {},
   "source": [
    "# Step 7: Display Results"
   ]
  },
  {
   "cell_type": "code",
   "execution_count": 16,
   "metadata": {},
   "outputs": [
    {
     "name": "stdout",
     "output_type": "stream",
     "text": [
      "{'exists': True, 'count': 1}\n"
     ]
    }
   ],
   "source": [
    "# search for words\n",
    "print(lookup(\"Muhammad Yaqoob\", indexer))"
   ]
  },
  {
   "cell_type": "markdown",
   "metadata": {},
   "source": [
    "# Step 8: Test Your Search Engine"
   ]
  },
  {
   "cell_type": "code",
   "execution_count": 17,
   "metadata": {},
   "outputs": [
    {
     "name": "stdout",
     "output_type": "stream",
     "text": [
      "{'exists': True, 'count': 1}\n",
      "{'exists': False, 'count': 0}\n"
     ]
    }
   ],
   "source": [
    "print(lookup(\"Ali Ahmed\", indexer))\n",
    "print(lookup(\"Jacob Berzellioos\", indexer))"
   ]
  }
 ],
 "metadata": {
  "kernelspec": {
   "display_name": "Python 3",
   "language": "python",
   "name": "python3"
  },
  "language_info": {
   "codemirror_mode": {
    "name": "ipython",
    "version": 3
   },
   "file_extension": ".py",
   "mimetype": "text/x-python",
   "name": "python",
   "nbconvert_exporter": "python",
   "pygments_lexer": "ipython3",
   "version": "3.12.1"
  }
 },
 "nbformat": 4,
 "nbformat_minor": 2
}
